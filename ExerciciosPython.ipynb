{
  "nbformat": 4,
  "nbformat_minor": 0,
  "metadata": {
    "colab": {
      "provenance": [],
      "authorship_tag": "ABX9TyPVWFCjjums6id0mBCcj8Rt",
      "include_colab_link": true
    },
    "kernelspec": {
      "name": "python3",
      "display_name": "Python 3"
    },
    "language_info": {
      "name": "python"
    }
  },
  "cells": [
    {
      "cell_type": "markdown",
      "metadata": {
        "id": "view-in-github",
        "colab_type": "text"
      },
      "source": [
        "<a href=\"https://colab.research.google.com/github/renanribeiroprofissional/Exercicios-de-Python-Google-Colab/blob/main/ExerciciosPython.ipynb\" target=\"_parent\"><img src=\"https://colab.research.google.com/assets/colab-badge.svg\" alt=\"Open In Colab\"/></a>"
      ]
    },
    {
      "cell_type": "markdown",
      "source": [
        "**1) Cálculo de Dano**\n",
        "\n",
        "Escreva um programa que permita inserir o nome e o poder de ataque de um personagem, depois o nome, a quantidade de pontos de vida, o poder de defesa de outro personagem e se ele possui um escudo, e então calcule a quantidade de dano causado baseado nas seguintes regras:\n",
        "\n",
        "Se o poder de ataque for maior do que a defesa e o defensor não possuir um escudo, o dano causado será igual a diferença entre o ataque e a defesa.\n",
        "\n",
        "Se o poder de ataque for maior do que a defesa e o defensor possuir um escudo, o dano causado será igual a metade da diferença entre o ataque e a defesa.\n",
        "\n",
        "Se o poder de ataque for menor ou igual a defesa, o dano causado será 0.\n",
        "\n",
        "Por fim, o programa deve subtrair a quantidade de dano da quantidade de pontos de vida do personagem defensor e exibir na tela a quantidade de dano e as informações atualizadas de ambos os personagens.\n",
        "\n"
      ],
      "metadata": {
        "id": "bc3yI3XkAeIT"
      }
    },
    {
      "cell_type": "markdown",
      "source": [
        "Escreva um programa que permita inserir o nome e o poder de ataque de um personagem, depois o nome, a quantidade de pontos de vida, o poder de defesa de outro personagem e se ele possui um escudo, e então calcule a quantidade de dano causado baseado nas seguintes regras:\n"
      ],
      "metadata": {
        "id": "4WM2ofCVB26A"
      }
    },
    {
      "cell_type": "code",
      "execution_count": null,
      "metadata": {
        "colab": {
          "base_uri": "https://localhost:8080/"
        },
        "id": "k7SZrLAtAcmc",
        "outputId": "510fcd31-c03a-46f0-e899-7cca5fd36f09"
      },
      "outputs": [
        {
          "name": "stdout",
          "output_type": "stream",
          "text": [
            "Digite o nome do usuário: Renan\n",
            "Digite a quantidade de poder do personagem de ataque: 90\n",
            "Digite o nome do personagem de defesa: Gui\n",
            "Digite a quantidade de vida do personagem de defesa: 200\n",
            "Digite a quantidade de poder do personagem de defesa: 20\n",
            "O personagem possui escudo ? Sim/Não Não\n"
          ]
        }
      ],
      "source": [
        "# informações persomagem de ataque:\n",
        "nomePersonagemAtaque = input(\"Digite o nome do usuário: \")\n",
        "poderPersonagemAtaque = float(input(\"Digite a quantidade de poder do personagem de ataque: \"))\n",
        "\n",
        "# informações personagem defesa:\n",
        "nomePersonagemDefesa = input(\"Digite o nome do personagem de defesa: \")\n",
        "vida = float(input(\"Digite a quantidade de vida do personagem de defesa: \"))\n",
        "poderPersonagemDefesa = float(input(\"Digite a quantidade de poder do personagem de defesa: \"))\n",
        "escudo = input(\"O personagem possui escudo ? Sim/Não \")\n",
        "\n",
        "danoCausado = 0\n"
      ]
    },
    {
      "cell_type": "markdown",
      "source": [
        "Se o poder de ataque for maior do que a defesa e o defensor não possuir um escudo, o dano causado será igual a diferença entre o ataque e a defesa."
      ],
      "metadata": {
        "id": "ut_pOClZFV9J"
      }
    },
    {
      "cell_type": "code",
      "source": [
        "if poderPersonagemAtaque > poderPersonagemDefesa and escudo == \"Não\":\n",
        "  danoCausado = poderPersonagemAtaque - poderPersonagemDefesa\n",
        "# Se o poder de ataque for maior do que a defesa e o defensor possuir um escudo, o dano causado será igual a metade da diferença entre o ataque e a defesa.\n",
        "elif poderPersonagemAtaque > poderPersonagemDefesa and escudo == \"Sim\":\n",
        "  danoCausado = (poderPersonagemAtaque - poderPersonagemDefesa) / 2\n",
        "#Se o poder de ataque for menor ou igual a defesa, o dano causado será 0.\n",
        "elif poderPersonagemAtaque <= poderPersonagemDefesa:\n",
        "  danoCausado = 0\n",
        "else: print(\"Obrigado\")"
      ],
      "metadata": {
        "id": "-kerZ5oSA5zP"
      },
      "execution_count": null,
      "outputs": []
    },
    {
      "cell_type": "markdown",
      "source": [
        "Por fim, o programa deve subtrair a quantidade de dano da quantidade de pontos de vida do personagem defensor e exibir na tela a quantidade de dano e as informações atualizadas de ambos os personagens.\n",
        "\n"
      ],
      "metadata": {
        "id": "M6j_vNPZHijJ"
      }
    },
    {
      "cell_type": "code",
      "source": [
        "print(str(nomePersonagemAtaque) +\" causou \"+ str(danoCausado)+\"\\n\")\n",
        "print(str(nomePersonagemAtaque)+\"\\nPoder de ataque: \"+str(poderPersonagemAtaque)+\"\\n\")\n",
        "print(str(nomePersonagemDefesa)+\"\\nPontos de vida: \"+str(vida)+\"\\nPoder de defesa: \"+ str(poderPersonagemDefesa)+\"\\nPossui escudo: \"+escudo)\n"
      ],
      "metadata": {
        "colab": {
          "base_uri": "https://localhost:8080/"
        },
        "id": "OQGjo2C5IZNh",
        "outputId": "3ef1f58e-0afa-4fe3-885e-7635e3a5946b"
      },
      "execution_count": null,
      "outputs": [
        {
          "output_type": "stream",
          "name": "stdout",
          "text": [
            "Renan causou 70.0\n",
            "\n",
            "Renan\n",
            "Poder de ataque: 90.0\n",
            "\n",
            "Gui\n",
            "Pontos de vida: 200.0\n",
            "Poder de defesa: 20.0\n",
            "Possui escudo: Não\n"
          ]
        }
      ]
    },
    {
      "cell_type": "markdown",
      "source": [
        "**2) Cadastro de Recrutas**\n",
        "\n",
        "Escreva um programa em javascript que permita salvar informações de um recruta. As informações a serem salvas são:\n",
        "\n",
        "o primeiro nome\n",
        "\n",
        "o sobrenome\n",
        "\n",
        "o campo de estudo\n",
        "\n",
        "o ano de nascimento\n",
        "\n",
        "Depois o programa deve exibir o nome completo do recruta, seu campo de estudo e sua idade (apenas baseada no ano de nascimento).\n"
      ],
      "metadata": {
        "id": "gMgHa4oa7gt7"
      }
    },
    {
      "cell_type": "code",
      "source": [
        "nome = input(\"Digite o seu nome: \")\n",
        "sobrenome = input(\"Digite o seu sobrenome: \")\n",
        "estudo = input(\"Informe o seu curso: \")\n",
        "nascimento = int(input(\"Digite o seu ano de nascimento: \"))\n",
        "\n",
        "idade = 2024 - nascimento\n",
        "\n"
      ],
      "metadata": {
        "id": "bCAgUhSCOltM",
        "colab": {
          "base_uri": "https://localhost:8080/"
        },
        "outputId": "cd8d0779-258a-4996-f391-d22b9386d1fd"
      },
      "execution_count": 7,
      "outputs": [
        {
          "name": "stdout",
          "output_type": "stream",
          "text": [
            "Digite o seu nome: Renan\n",
            "Digite o seu sobrenome: Ribeiro da Silva\n",
            "Informe o seu curso: Engenharia de Software\n",
            "Digite o seu ano de nascimento: 1999\n"
          ]
        }
      ]
    },
    {
      "cell_type": "code",
      "source": [
        "print(\"Olá \"+nome+\" \"+sobrenome+\", seu curso é \"+estudo+\" e você tem \"+str(idade)+\" anos\")"
      ],
      "metadata": {
        "colab": {
          "base_uri": "https://localhost:8080/"
        },
        "id": "1sBjsaCT8eG0",
        "outputId": "6e1c600e-91a9-4dcd-c298-e038c0e7a149"
      },
      "execution_count": 9,
      "outputs": [
        {
          "output_type": "stream",
          "name": "stdout",
          "text": [
            "Olá Renan Ribeiro da Silva, seu curso é Engenharia de Software e você tem 25 anos\n"
          ]
        }
      ]
    },
    {
      "cell_type": "markdown",
      "source": [
        "**3) Calculadora de 4 Operações**\n",
        "\n",
        "Escreve um programa em python que permita inserir dois valores numéricos e então calcule o resultado das quatro operações básicas (soma, subtração, multiplicação e divisão).\n",
        "\n",
        "Após calcular os resultados o programa deve exibi-los na tela."
      ],
      "metadata": {
        "id": "JQ9wqqYvEry7"
      }
    },
    {
      "cell_type": "code",
      "source": [
        "n1 = float(input(\"Digite o primeiro número: \"))\n",
        "n2 = float(input(\"Digite o segundo número: \"))\n",
        "\n",
        "print(\"\\n\\n\"+\"A soma é: \"+str(n1+n2))\n",
        "print(\"A subtração é: \"+str(n1-n2))\n",
        "print(\"A multiplicação é: \"+str(n1*n2))\n",
        "print(\"A divisão é: \"+str(n1/n2))\n",
        "\n"
      ],
      "metadata": {
        "colab": {
          "base_uri": "https://localhost:8080/"
        },
        "id": "fDs2yRajE0m3",
        "outputId": "6cca8f0b-365d-4e34-b956-ec784bbcb1b3"
      },
      "execution_count": 36,
      "outputs": [
        {
          "output_type": "stream",
          "name": "stdout",
          "text": [
            "Digite o primeiro número: 10\n",
            "Digite o segundo número: 5\n",
            "\n",
            "\n",
            "A soma é: 15.0\n",
            "A subtração é: 5.0\n",
            "A multiplicação é: 50.0\n",
            "A divisão é: 2.0\n"
          ]
        }
      ]
    },
    {
      "cell_type": "markdown",
      "source": [
        "**4) Teste de Velocidade**\n",
        "\n",
        "Escreva um programa em python que permita inserir o nome e a velocidade de dois veículos e exiba na tela uma mensagem dizendo qual dos dois é mais rápido (ou que as velocidades são iguais se este for o caso)"
      ],
      "metadata": {
        "id": "vX-k7FJLQFf1"
      }
    },
    {
      "cell_type": "code",
      "source": [
        "# informações carro 1\n",
        "car1Name = input(\"Digite o nome do carro 1: \")\n",
        "velocidade1 = float(input(\"Digite a velocidade do carro 1: \"))\n",
        "\n",
        "# informações carro 2\n",
        "car2Name = input(\"Digite o nome do carro 2: \")\n",
        "velocidade2 = float(input(\"Digite a velocidade do carro 2: \"))"
      ],
      "metadata": {
        "id": "YD9waWiZQI2H"
      },
      "execution_count": null,
      "outputs": []
    },
    {
      "cell_type": "code",
      "source": [
        "if velocidade1 > velocidade2:\n",
        "  print(\"O \"+ car1Name +\" é mais rápido que o \"+car2Name)\n",
        "elif velocidade2 > velocidade1:\n",
        "  print(\"O \"+ car2Name +\" é mais rápido que o \"+car1Name)\n",
        "elif velocidade2 == velocidade1:\n",
        "  print(car1Name +\" e \"+ car2Name +\" tem as mesmas velocidades\")\n",
        "else:\n",
        "    print(\"Obrigado\")\n"
      ],
      "metadata": {
        "colab": {
          "base_uri": "https://localhost:8080/"
        },
        "id": "NYefzqHnSfiP",
        "outputId": "5f8228f4-d52a-4d11-b915-675b566dac03"
      },
      "execution_count": 45,
      "outputs": [
        {
          "output_type": "stream",
          "name": "stdout",
          "text": [
            "Vermelho e Azul tem as mesmas velocidades\n"
          ]
        }
      ]
    }
  ]
}