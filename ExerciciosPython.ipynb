{
  "nbformat": 4,
  "nbformat_minor": 0,
  "metadata": {
    "colab": {
      "provenance": [],
      "authorship_tag": "ABX9TyP7ozPaoe9Ro7m/RnzyuNV/",
      "include_colab_link": true
    },
    "kernelspec": {
      "name": "python3",
      "display_name": "Python 3"
    },
    "language_info": {
      "name": "python"
    }
  },
  "cells": [
    {
      "cell_type": "markdown",
      "metadata": {
        "id": "view-in-github",
        "colab_type": "text"
      },
      "source": [
        "<a href=\"https://colab.research.google.com/github/renanribeiroprofissional/Exercicios-de-Python-Google-Colab/blob/main/ExerciciosPython.ipynb\" target=\"_parent\"><img src=\"https://colab.research.google.com/assets/colab-badge.svg\" alt=\"Open In Colab\"/></a>"
      ]
    },
    {
      "cell_type": "markdown",
      "source": [
        "**1) Cálculo de Dano**\n",
        "\n",
        "Escreva um programa que permita inserir o nome e o poder de ataque de um personagem, depois o nome, a quantidade de pontos de vida, o poder de defesa de outro personagem e se ele possui um escudo, e então calcule a quantidade de dano causado baseado nas seguintes regras:\n",
        "\n",
        "Se o poder de ataque for maior do que a defesa e o defensor não possuir um escudo, o dano causado será igual a diferença entre o ataque e a defesa.\n",
        "\n",
        "Se o poder de ataque for maior do que a defesa e o defensor possuir um escudo, o dano causado será igual a metade da diferença entre o ataque e a defesa.\n",
        "\n",
        "Se o poder de ataque for menor ou igual a defesa, o dano causado será 0.\n",
        "\n",
        "Por fim, o programa deve subtrair a quantidade de dano da quantidade de pontos de vida do personagem defensor e exibir na tela a quantidade de dano e as informações atualizadas de ambos os personagens.\n",
        "\n"
      ],
      "metadata": {
        "id": "bc3yI3XkAeIT"
      }
    },
    {
      "cell_type": "markdown",
      "source": [
        "Escreva um programa que permita inserir o nome e o poder de ataque de um personagem, depois o nome, a quantidade de pontos de vida, o poder de defesa de outro personagem e se ele possui um escudo, e então calcule a quantidade de dano causado baseado nas seguintes regras:\n"
      ],
      "metadata": {
        "id": "4WM2ofCVB26A"
      }
    },
    {
      "cell_type": "code",
      "execution_count": null,
      "metadata": {
        "colab": {
          "base_uri": "https://localhost:8080/"
        },
        "id": "k7SZrLAtAcmc",
        "outputId": "510fcd31-c03a-46f0-e899-7cca5fd36f09"
      },
      "outputs": [
        {
          "name": "stdout",
          "output_type": "stream",
          "text": [
            "Digite o nome do usuário: Renan\n",
            "Digite a quantidade de poder do personagem de ataque: 90\n",
            "Digite o nome do personagem de defesa: Gui\n",
            "Digite a quantidade de vida do personagem de defesa: 200\n",
            "Digite a quantidade de poder do personagem de defesa: 20\n",
            "O personagem possui escudo ? Sim/Não Não\n"
          ]
        }
      ],
      "source": [
        "# informações persomagem de ataque:\n",
        "nomePersonagemAtaque = input(\"Digite o nome do usuário: \")\n",
        "poderPersonagemAtaque = float(input(\"Digite a quantidade de poder do personagem de ataque: \"))\n",
        "\n",
        "# informações personagem defesa:\n",
        "nomePersonagemDefesa = input(\"Digite o nome do personagem de defesa: \")\n",
        "vida = float(input(\"Digite a quantidade de vida do personagem de defesa: \"))\n",
        "poderPersonagemDefesa = float(input(\"Digite a quantidade de poder do personagem de defesa: \"))\n",
        "escudo = input(\"O personagem possui escudo ? Sim/Não \")\n",
        "\n",
        "danoCausado = 0\n"
      ]
    },
    {
      "cell_type": "markdown",
      "source": [
        "Se o poder de ataque for maior do que a defesa e o defensor não possuir um escudo, o dano causado será igual a diferença entre o ataque e a defesa."
      ],
      "metadata": {
        "id": "ut_pOClZFV9J"
      }
    },
    {
      "cell_type": "code",
      "source": [
        "if poderPersonagemAtaque > poderPersonagemDefesa and escudo == \"Não\":\n",
        "  danoCausado = poderPersonagemAtaque - poderPersonagemDefesa\n",
        "# Se o poder de ataque for maior do que a defesa e o defensor possuir um escudo, o dano causado será igual a metade da diferença entre o ataque e a defesa.\n",
        "elif poderPersonagemAtaque > poderPersonagemDefesa and escudo == \"Sim\":\n",
        "  danoCausado = (poderPersonagemAtaque - poderPersonagemDefesa) / 2\n",
        "#Se o poder de ataque for menor ou igual a defesa, o dano causado será 0.\n",
        "elif poderPersonagemAtaque <= poderPersonagemDefesa:\n",
        "  danoCausado = 0\n",
        "else: print(\"Obrigado\")"
      ],
      "metadata": {
        "id": "-kerZ5oSA5zP"
      },
      "execution_count": null,
      "outputs": []
    },
    {
      "cell_type": "markdown",
      "source": [
        "Por fim, o programa deve subtrair a quantidade de dano da quantidade de pontos de vida do personagem defensor e exibir na tela a quantidade de dano e as informações atualizadas de ambos os personagens.\n",
        "\n"
      ],
      "metadata": {
        "id": "M6j_vNPZHijJ"
      }
    },
    {
      "cell_type": "code",
      "source": [
        "print(str(nomePersonagemAtaque) +\" causou \"+ str(danoCausado)+\"\\n\")\n",
        "print(str(nomePersonagemAtaque)+\"\\nPoder de ataque: \"+str(poderPersonagemAtaque)+\"\\n\")\n",
        "print(str(nomePersonagemDefesa)+\"\\nPontos de vida: \"+str(vida)+\"\\nPoder de defesa: \"+ str(poderPersonagemDefesa)+\"\\nPossui escudo: \"+escudo)\n"
      ],
      "metadata": {
        "colab": {
          "base_uri": "https://localhost:8080/"
        },
        "id": "OQGjo2C5IZNh",
        "outputId": "3ef1f58e-0afa-4fe3-885e-7635e3a5946b"
      },
      "execution_count": null,
      "outputs": [
        {
          "output_type": "stream",
          "name": "stdout",
          "text": [
            "Renan causou 70.0\n",
            "\n",
            "Renan\n",
            "Poder de ataque: 90.0\n",
            "\n",
            "Gui\n",
            "Pontos de vida: 200.0\n",
            "Poder de defesa: 20.0\n",
            "Possui escudo: Não\n"
          ]
        }
      ]
    },
    {
      "cell_type": "markdown",
      "source": [
        "**2) Cadastro de Recrutas**\n",
        "\n",
        "Escreva um programa em javascript que permita salvar informações de um recruta. As informações a serem salvas são:\n",
        "\n",
        "o primeiro nome\n",
        "\n",
        "o sobrenome\n",
        "\n",
        "o campo de estudo\n",
        "\n",
        "o ano de nascimento\n",
        "\n",
        "Depois o programa deve exibir o nome completo do recruta, seu campo de estudo e sua idade (apenas baseada no ano de nascimento).\n"
      ],
      "metadata": {
        "id": "gMgHa4oa7gt7"
      }
    },
    {
      "cell_type": "code",
      "source": [
        "nome = input(\"Digite o seu nome: \")\n",
        "sobrenome = input(\"Digite o seu sobrenome: \")\n",
        "estudo = input(\"Informe o seu curso: \")\n",
        "nascimento = float(input(\"Digite o seu ano de nascimento: \"))\n",
        "\n",
        "idade = ano - 2024\n",
        "\n"
      ],
      "metadata": {
        "id": "bCAgUhSCOltM"
      },
      "execution_count": null,
      "outputs": []
    },
    {
      "cell_type": "code",
      "source": [],
      "metadata": {
        "id": "1sBjsaCT8eG0"
      },
      "execution_count": null,
      "outputs": []
    }
  ]
}